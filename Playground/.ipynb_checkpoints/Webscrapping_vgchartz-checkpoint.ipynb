{
 "cells": [
  {
   "cell_type": "code",
   "execution_count": null,
   "id": "cfe32190",
   "metadata": {
    "scrolled": true
   },
   "outputs": [],
   "source": [
    "## **Webscrapping 1st try using Selenium** \n",
    "# Install webdriver-manager\n",
    "#!pip install webdriver-manager\n",
    "from getpass import getpass\n",
    "from selenium import webdriver\n",
    "from webdriver_manager.chrome import ChromeDriverManager\n",
    "from selenium.webdriver.common.keys import Keys\n",
    "from bs4 import BeautifulSoup\n",
    "import pandas as pd"
   ]
  },
  {
   "cell_type": "code",
   "execution_count": null,
   "id": "1597f86d",
   "metadata": {},
   "outputs": [],
   "source": [
    "driver = webdriver.Chrome(ChromeDriverManager().install())\n",
    "driver.get(\"https://www.vgchartz.com/\")\n",
    "\n",
    "# First thing I can do: grab the page\n",
    "soup_selenium = BeautifulSoup(driver.page_source, 'html.parser')\n",
    "print(soup_selenium.prettify())"
   ]
  },
  {
   "cell_type": "code",
   "execution_count": null,
   "id": "46b94c08",
   "metadata": {},
   "outputs": [],
   "source": [
    "# Manual webscrapping by researching every title on vgchartz # Not optimized at all\n",
    "# Write in the boxes and press buttons\n",
    "open_search_box = driver.find_element(by='id', value='searchIconBox')\n",
    "open_search_box.click()\n",
    "\n",
    "search_box = driver.find_element(by='id', value='master_search')\n",
    "search_box.click()\n",
    "\n",
    "search = \"Super Mario 3D World + Bowser's Fury\"  #Add your search here\n",
    "\n",
    "# send_keys() to simulate key strokes\n",
    "search_box.send_keys(search)\n",
    "\n",
    "# # locate submit button by_class_name\n",
    "search_button = driver.find_element(by='id', value=\"submitSearch\")  #TODO: fix. Says the button is not there.\n",
    "\n",
    "# # .click() to mimic button click\n",
    "search_button.click()"
   ]
  },
  {
   "cell_type": "code",
   "execution_count": null,
   "id": "4fb1a83f",
   "metadata": {},
   "outputs": [],
   "source": [
    "# Grab the sales from the web page\n",
    "  meat = requests.get(f\"https://www.goodreads.com/quotes/tag/inspirational?page={p}\")\n",
    "  soup = BeautifulSoup(meat.content, 'lxml')\n",
    "soup_container = soup_selenium.find_all('id', value = 'generalBodyBox2')\n",
    "#authors = soup_container.find_all('span',{'class': 'authorOrTitle'})\n",
    "\n",
    "#sales = soup_container.find_all('td', {\"align\": \"center\"})\n",
    "#len(sales)"
   ]
  },
  {
   "cell_type": "code",
   "execution_count": null,
   "id": "084d89bf",
   "metadata": {},
   "outputs": [],
   "source": [
    "len(soup_container)"
   ]
  }
 ],
 "metadata": {
  "kernelspec": {
   "display_name": "Python 3 (ipykernel)",
   "language": "python",
   "name": "python3"
  },
  "language_info": {
   "codemirror_mode": {
    "name": "ipython",
    "version": 3
   },
   "file_extension": ".py",
   "mimetype": "text/x-python",
   "name": "python",
   "nbconvert_exporter": "python",
   "pygments_lexer": "ipython3",
   "version": "3.9.16"
  }
 },
 "nbformat": 4,
 "nbformat_minor": 5
}
