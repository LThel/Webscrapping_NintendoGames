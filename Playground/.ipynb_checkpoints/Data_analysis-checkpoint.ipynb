{
 "cells": [
  {
   "cell_type": "code",
   "execution_count": null,
   "id": "5df8f42c",
   "metadata": {},
   "outputs": [],
   "source": [
    "import pandas as pd\n",
    "import seaborn as sns\n",
    "import matplotlib.pyplot as plt\n",
    "#import math#\n",
    "import numpy as np"
   ]
  },
  {
   "cell_type": "code",
   "execution_count": null,
   "id": "0a4874ba",
   "metadata": {},
   "outputs": [],
   "source": [
    "df = pd.read_csv(r\"C:\\Users\\louis\\OneDrive\\Documents\\GitHub\\TeamProject_NintendoGames\\data.csv\")"
   ]
  },
  {
   "cell_type": "code",
   "execution_count": null,
   "id": "69bfd7eb",
   "metadata": {
    "scrolled": true
   },
   "outputs": [],
   "source": [
    "df.isna().sum()/df.shape[0] #Proportion of Na in the columns\n",
    "sns.barplot(x = df.columns, y = df.isna().sum()/df.shape[0])\n",
    "plt.xticks (rotation = 90)\n",
    "\n",
    "#df['title'].nunique()/df.shape[0] get the proportion of NAN"
   ]
  },
  {
   "cell_type": "code",
   "execution_count": null,
   "id": "75bec74d",
   "metadata": {},
   "outputs": [],
   "source": [
    "df[(df.title.duplicated() == True)].sort_values(by = 'title')\n",
    "def look4packages (title_list) :\n",
    "    return '+' in title_list\n",
    "\n",
    "df[df.title.apply(look4packages)]"
   ]
  },
  {
   "cell_type": "code",
   "execution_count": null,
   "id": "338d52ca",
   "metadata": {},
   "outputs": [],
   "source": [
    "#nintendo1 = df.dropna(how=\"all\",subset=(\"meta_score\",\"user_score\")) #if we drop na where there is no information about any score \n",
    "#nintendo1['meta_score_over_10'] = nintendo1['meta_score'].apply(lambda x : x/10)"
   ]
  },
  {
   "cell_type": "code",
   "execution_count": null,
   "id": "91d0b363-539c-4a34-844e-b901489330f9",
   "metadata": {},
   "outputs": [],
   "source": [
    "#Adjust the columns of the data set (main_genre and year)\n",
    "df['year'] = df['date'].str.split(',').str[1].str.strip()\n",
    "\n"
   ]
  },
  {
   "cell_type": "code",
   "execution_count": null,
   "id": "6b692e7f-71ce-4c48-a9ee-b6888bfcdff0",
   "metadata": {},
   "outputs": [],
   "source": [
    "df['genres'][df['genres'].isna()]"
   ]
  },
  {
   "cell_type": "code",
   "execution_count": null,
   "id": "80549e61",
   "metadata": {},
   "outputs": [],
   "source": []
  },
  {
   "cell_type": "code",
   "execution_count": null,
   "id": "553c013c-834f-44a0-afae-831ea85992e9",
   "metadata": {},
   "outputs": [],
   "source": [
    "df['genres'] = df['genres'].apply(lambda x : \"[]\" if type(x) != str else x)\\\n",
    "    .apply(lambda x : eval(x))\n"
   ]
  },
  {
   "cell_type": "code",
   "execution_count": null,
   "id": "5e88ce91-d67f-4cdd-9d66-df7922ecaffa",
   "metadata": {},
   "outputs": [],
   "source": [
    "def check_top(n):  \n",
    "    genres_top_x = df['genres']\\\n",
    "            .explode().value_counts().index[0:n]#.describe()\n",
    "    def test_top_x(genr_list):\n",
    "        def go_through_top_x(t):\n",
    "            return t in genr_list\n",
    "        result = list(map(go_through_top_x, genres_top_x))    \n",
    "        return True in result\n",
    "    #test_top_x(df['genres'].iloc[0], genres_top_x)\n",
    "    #df['is_main_genres']\n",
    "    return df['genres'].apply(test_top_x).sum()/df.shape[0]\n",
    "list(map(check_top, range(16))) #modify range to see"
   ]
  },
  {
   "cell_type": "code",
   "execution_count": null,
   "id": "3c9d43df-cc61-4ee0-ae95-bbef8dd01ba7",
   "metadata": {},
   "outputs": [],
   "source": [
    "#To check the games that do not appeared in the top 16 (which contains 95% of our games) \n",
    "top_x = 16\n",
    "genres_top_x = df['genres']\\\n",
    "            .explode().value_counts().index[0:top_x]\n",
    "def test_top_x(genr_list):\n",
    "    def go_through_top_x(t):\n",
    "        return t in genr_list\n",
    "    result = list(map(go_through_top_x, genres_top_x))    \n",
    "    return True in result\n",
    "df['genres_is_main'] = df['genres'].apply(test_top_x)\n",
    "df[df['genres_is_main'] == False]"
   ]
  },
  {
   "cell_type": "code",
   "execution_count": null,
   "id": "52145904-76ff-4ca8-8a53-3c93ac46d619",
   "metadata": {},
   "outputs": [],
   "source": [
    "#Using np.array and intersect\n",
    "top16 = df['genres']\\\n",
    "        .explode().value_counts().index[0:16]\n",
    "\n",
    "def grab_the_most_produced(genre_list, top_list):\n",
    "#turn into set and intersect !!!     \n",
    "    crossing_genres = np.intersect1d(np.array(genre_list), np.array(top_list))\n",
    "    output = []\n",
    "    if len(crossing_genres)>0:\n",
    "        for item in top_list:\n",
    "            if item in crossing_genres:\n",
    "                output.append(item)\n",
    "        return output[0]\n",
    "    elif 'Simulation' in genre_list:\n",
    "        return 'Simulation'\n",
    "    elif 'Driving' in genre_list:\n",
    "        return 'Driving'\n",
    "    else :    \n",
    "        return 'Other'\n",
    "    #return crossing_genres[0] if len(crossing_genres)>0 else 'Other'\n",
    "    #return one string with most_popular_top_list or 'other' if no value if several values choose the earliest one\n",
    "#test variable\n",
    "\n",
    "\n",
    "#grab_the_most_produced(df['genres'].iloc[0], top16)\n",
    "df['main_genre'] = df['genres'].apply(grab_the_most_produced, top_list = top16)"
   ]
  },
  {
   "cell_type": "code",
   "execution_count": null,
   "id": "d2080647",
   "metadata": {
    "scrolled": true
   },
   "outputs": [],
   "source": [
    "np.array(top16.index)"
   ]
  },
  {
   "cell_type": "code",
   "execution_count": null,
   "id": "833fae2d",
   "metadata": {},
   "outputs": [],
   "source": [
    "top16 = df['genres']\\\n",
    "        .explode().value_counts()[0:16]#.index[0:16]\n",
    "\n",
    "np.intersect1d(np.array(df['genres'].iloc[0]), np.array(top16.index))"
   ]
  },
  {
   "cell_type": "code",
   "execution_count": null,
   "id": "ec93d2f1",
   "metadata": {},
   "outputs": [],
   "source": [
    "#Using set and intersection - Find a way to return the most produced of the game's genres\n",
    "top16 = df['genres']\\\n",
    "        .explode().value_counts().index[0:16]\n",
    "\n",
    "def grab_the_most_produced(genre_list, top_list):\n",
    "#turn into set and intersect !!!     \n",
    "    crossing_genres = set(top_list).intersection(genre_list)\n",
    "    return list(crossing_genres)[0] if len(list(crossing_genres))>0 else 'Other'\n",
    "\n",
    "\n",
    "\n",
    "\n",
    "    #return one string with most_popular_top_list or 'other' if no value if several values choose the earliest one\n",
    "#test variable\n",
    "\n",
    "grab_the_most_produced(df['genres'].iloc[0], top16)\n",
    "\n",
    "df['genres'].apply(grab_the_most_produced, top_list = top16)\n",
    "#df['main_genre'] = df['genres'].apply(grab_the_most_produced, top_list = top16)\n",
    "#df.apply(grab_the_most_produced(df['genres'], top16))"
   ]
  },
  {
   "cell_type": "code",
   "execution_count": null,
   "id": "850aa4ac-c8f2-4ac1-8f45-2c218e898ca3",
   "metadata": {},
   "outputs": [],
   "source": [
    "#Number of games produced regarding the main genre and the year\n",
    "fig, ax = plt.subplots()\n",
    "sns.histplot(df, x='year', y='main_genre', legend = True, label = 'main_genre')#, hue=None\n",
    "plt.legend()\n",
    "plt.xticks(rotation=90)\n",
    "plt.show()"
   ]
  },
  {
   "cell_type": "code",
   "execution_count": null,
   "id": "340aabf3",
   "metadata": {
    "scrolled": true
   },
   "outputs": [],
   "source": [
    "#What market to target ? Look only for the last 10 years\n",
    "\n",
    "#Genre of the most sell games\n",
    "#print(df_tempo['user_score'].groupby(by = df_tempo['first_item']).mean().sort_values(ascending=False).head())\n",
    "#print(df_tempo['meta_score'].groupby(by = df_tempo['first_item']).mean().sort_values(ascending=False).head())"
   ]
  },
  {
   "cell_type": "code",
   "execution_count": null,
   "id": "ef3a2269-a3a7-4931-8e77-de0b750f601c",
   "metadata": {},
   "outputs": [],
   "source": [
    "#Top 5 most well rated games\n",
    "df['year'] = df['year'].apply(lambda x : float(x))\n",
    "df_tempo = df[df['year']>2013]#.value_counts().sort_values(ascending=False)\n",
    "top5_user = df_tempo['user_score'].groupby(by = df_tempo['main_genre']).mean().sort_values(ascending=False).head()\n",
    "top5_meta = df_tempo['meta_score'].groupby(by = df_tempo['main_genre']).mean().sort_values(ascending=False).head()\n",
    "top5_user = pd.DataFrame(top5_user).reset_index()\n",
    "top5_meta = pd.DataFrame(top5_meta/10).reset_index()\n",
    "\n",
    "fig, ax = plt.subplots(2)\n",
    "sns.barplot(data = top5_user, x = 'main_genre', y = 'user_score'  , ax = ax[0], color = 'red')\n",
    "sns.barplot(data = top5_meta, x = 'main_genre', y = 'meta_score', ax = ax[1], color = 'blue')\n",
    "plt.suptitle('Best rated genres (Top 5)')\n",
    "ax[0].set_ylabel(\"User score\")\n",
    "ax[0].set_xlabel(\"\")\n",
    "ax[0].set_ylim([0,10])\n",
    "ax[1].set_ylabel(\"Meta score\")\n",
    "ax[1].set_xlabel(\"Main genre\")\n",
    "ax[1].set_ylim([0,10])\n",
    "plt.show()"
   ]
  },
  {
   "cell_type": "code",
   "execution_count": null,
   "id": "17cf4d4e",
   "metadata": {},
   "outputs": [],
   "source": [
    "df[df['main_genre'] == 'Other']"
   ]
  },
  {
   "cell_type": "code",
   "execution_count": null,
   "id": "129d84a6-4186-4797-9468-d5506e0b5e4b",
   "metadata": {},
   "outputs": [],
   "source": [
    "#The platform to target\n",
    "top5_user = df_tempo['user_score'].groupby(by = df_tempo['platform']).mean().sort_values(ascending=False)\n",
    "top5_meta = df_tempo['meta_score'].groupby(by = df_tempo['platform']).mean().sort_values(ascending=False)\n",
    "top5_user = pd.DataFrame(top5_user).reset_index()\n",
    "top5_meta = pd.DataFrame(top5_meta/10).reset_index()\n",
    "\n",
    "fig, ax = plt.subplots(2)\n",
    "sns.barplot(data = top5_user, x = 'platform', y = 'user_score', ax = ax[0], color = 'red')\n",
    "sns.barplot(data = top5_meta, x = 'platform', y = 'meta_score', ax = ax[1], color = 'blue')\n",
    "plt.suptitle('Games rating regarding the platform')\n",
    "ax[0].set_ylabel(\"User score\")\n",
    "ax[0].set_xlabel(\"\")\n",
    "ax[0].set_ylim([0,10])\n",
    "ax[1].set_ylabel(\"Meta score\")\n",
    "ax[1].set_xlabel(\"Main genre\")\n",
    "ax[1].set_ylim([0,10])\n",
    "plt.show()"
   ]
  },
  {
   "cell_type": "code",
   "execution_count": null,
   "id": "ccc2528e",
   "metadata": {},
   "outputs": [],
   "source": [
    "#Study the competitors - run only once\n",
    "df['developers'].apply(lambda x : \"[]\" if type(x) != str else x).apply(lambda x : x.strip())\\\n",
    "    .apply(lambda x : eval(x))\n"
   ]
  },
  {
   "cell_type": "code",
   "execution_count": null,
   "id": "d6521967",
   "metadata": {},
   "outputs": [],
   "source": [
    "#The most active competitors\n",
    "df['year'] = df['year'].apply(lambda x : float(x))\n",
    "df_tempo = df[df['year']>2013]\n",
    "\n",
    "fig, ax = plt.subplots(1)\n",
    "sns.barplot(x = df['developers'].explode().value_counts().index[0:10], y = df['developers'].explode().value_counts()[0:10], hue = color = 'red')\n",
    "plt.ticks(rotation = 90)\n",
    "plt.show()"
   ]
  },
  {
   "cell_type": "code",
   "execution_count": null,
   "id": "2663f2c0",
   "metadata": {},
   "outputs": [],
   "source": [
    "# Group by year and genre and count the number of games\n",
    "df_count = df_tempo.groupby(['year', 'main_genre']).size().reset_index(name='count')\n",
    "\n",
    "# Plot the lineplot\n",
    "sns.set(style=\"darkgrid\")\n",
    "g = sns.FacetGrid(df_count, col=\"main_genre\", col_wrap=3, height=3)\n",
    "g.map(plt.plot, \"year\", \"count\", marker=\"o\", linestyle=\":\")\n",
    "g.set_titles(\"{col_name}\")\n",
    "g.set_xlabels(\"Year\")\n",
    "g.set_ylabels(\"Number of Games Released\")\n",
    "plt.xticks(rotation = 90)\n",
    "plt.show()\n"
   ]
  }
 ],
 "metadata": {
  "kernelspec": {
   "display_name": "Python 3 (ipykernel)",
   "language": "python",
   "name": "python3"
  },
  "language_info": {
   "codemirror_mode": {
    "name": "ipython",
    "version": 3
   },
   "file_extension": ".py",
   "mimetype": "text/x-python",
   "name": "python",
   "nbconvert_exporter": "python",
   "pygments_lexer": "ipython3",
   "version": "3.9.16"
  }
 },
 "nbformat": 4,
 "nbformat_minor": 5
}
